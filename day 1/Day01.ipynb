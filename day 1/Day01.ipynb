{
 "cells": [
  {
   "cell_type": "code",
   "execution_count": 1,
   "id": "865fc4b0-1d28-4994-9744-c25dbb44d8ec",
   "metadata": {},
   "outputs": [
    {
     "name": "stdout",
     "output_type": "stream",
     "text": [
      "<class 'int'>\n"
     ]
    }
   ],
   "source": [
    "a=10\n",
    "print(type(a))"
   ]
  },
  {
   "cell_type": "markdown",
   "id": "7c65d4a7-03cd-408b-a8c7-2ef4f6f49893",
   "metadata": {},
   "source": [
    "Use ctrl+\\ for comment first select all lines and then press these combination same for undo for jupyter press esc+m to look like this"
   ]
  },
  {
   "cell_type": "code",
   "execution_count": 5,
   "id": "e930cfe6-1408-4330-b797-ace777ebe2d9",
   "metadata": {},
   "outputs": [
    {
     "name": "stdin",
     "output_type": "stream",
     "text": [
      "Enter a String Racecar\n"
     ]
    },
    {
     "name": "stdout",
     "output_type": "stream",
     "text": [
      "not a palindrome\n"
     ]
    }
   ],
   "source": [
    "n=input(\"Enter a String\").lower()\n",
    "a=n[::-1]\n",
    "if(n==a):\n",
    "    print(\"Palindrome\")\n",
    "else:\n",
    "    print(\"not a palindrome\")"
   ]
  },
  {
   "cell_type": "markdown",
   "id": "2782a986-7122-487d-b05b-4381368a7300",
   "metadata": {},
   "source": [
    "# Introduction to Fizzbuzz Program in Python\n",
    "In the Fizz, Buzz, and Fizz Buzz groups, the programming assignment Fizz-Buzz demonstrates the division of numbers. Assume the user is given the number 'n,' and they are asked to display the string representations of all the numbers from 1 to n. However, there are some restrictions, such as:\n",
    "\n",
    "-  the number can be divided by 3, it will output Fizz instead of the number.\n",
    "- If the number is divisible by 5, the result will display Buzz instead of the number.\n",
    "- And if the given number is divisible by both 3 and 5, Fizz Buzz will be printed instead of the number.\n",
    "- If the number cannot be divided by 3 or 5, it will be printed as a string.\n",
    " "
   ]
  },
  {
   "cell_type": "code",
   "execution_count": 13,
   "id": "20e113c3-8319-4b12-87f2-191a412d9822",
   "metadata": {},
   "outputs": [
    {
     "name": "stdin",
     "output_type": "stream",
     "text": [
      "enter a number 15\n"
     ]
    },
    {
     "name": "stdout",
     "output_type": "stream",
     "text": [
      "Fizz Buzz\n"
     ]
    }
   ],
   "source": [
    "a=int(input(\"enter a number\"))\n",
    "if(a%3==0 and a%5==0):  #this condition should be at the top\n",
    "    print(\"Fizz Buzz\")\n",
    "elif(a%3==0):\n",
    "    print('Fizz')\n",
    "elif(a%5==0):\n",
    "    print(\"Buzz\")\n",
    "else:\n",
    "    print(str(a))\n",
    "    "
   ]
  },
  {
   "cell_type": "code",
   "execution_count": 17,
   "id": "52d11cba-8f8e-4bd1-b9d6-b1aeecf9a434",
   "metadata": {},
   "outputs": [
    {
     "name": "stdout",
     "output_type": "stream",
     "text": [
      "Value of a after swapping 2\n",
      "Value of b after swapping 1\n"
     ]
    }
   ],
   "source": [
    "#swap two numbers\n",
    "a=1\n",
    "b=2\n",
    "\n",
    "def swap(a,b):\n",
    "    a=a+b\n",
    "    b=a-b\n",
    "    a=a-b\n",
    "    print(f\"Value of a after swapping {a}\")\n",
    "    print(f\"Value of b after swapping {b}\")\n",
    "swap(a,b)\n"
   ]
  },
  {
   "cell_type": "code",
   "execution_count": 28,
   "id": "4a431965-f6dc-4bab-ac31-ed396b473d24",
   "metadata": {},
   "outputs": [
    {
     "name": "stdout",
     "output_type": "stream",
     "text": [
      "inf\n"
     ]
    }
   ],
   "source": [
    "#find second largest element in the list\n",
    "li=[1,2,3,5,6,0,]\n",
    "max1=float('inf')\n",
    "max2=float('inf')\n",
    "for i in li:\n",
    "    if i>max1:\n",
    "        \n",
    "        max2=max1\n",
    "        max1=i\n",
    "    elif i>max2 and i!=max1:\n",
    "        max2=max1\n",
    "print(max2)\n",
    "\n",
    "    "
   ]
  },
  {
   "cell_type": "code",
   "execution_count": 23,
   "id": "798694f4-c3eb-4ebe-a0d8-4a35954ca362",
   "metadata": {},
   "outputs": [
    {
     "name": "stdout",
     "output_type": "stream",
     "text": [
      "b:15\n"
     ]
    }
   ],
   "source": [
    "dict={'a':10,'b':15,'c':11,'d':5}\n",
    "dict\n",
    "top_score=0\n",
    "top_scorer=None\n",
    "for name,score in dict.items():\n",
    "    if score>top_score:\n",
    "        top_score=score\n",
    "        top_scorer=name\n",
    "print(f\"{top_scorer}:{top_score}\")"
   ]
  },
  {
   "cell_type": "code",
   "execution_count": 24,
   "id": "71885bc9-fc35-4cff-ad93-2f1c5fac0b3c",
   "metadata": {},
   "outputs": [
    {
     "name": "stdout",
     "output_type": "stream",
     "text": [
      "[1, 2, 3, 4, 5, 6, 7]\n"
     ]
    }
   ],
   "source": [
    "#remove duplicate items from the list\n",
    "li=[1,2,2,3,5,5,4,6,7]\n",
    "a=set(li)\n",
    "no_duplicates_li=list(a)\n",
    "print(no_duplicates_li)"
   ]
  },
  {
   "cell_type": "code",
   "execution_count": null,
   "id": "52b682f2-a8e4-4f49-adb5-51bb6c91ae9c",
   "metadata": {},
   "outputs": [],
   "source": [
    "#closest to zero means minimum value so we can use min with abs function or map try with both\n",
    "def closest_to_zero(numbers):\n",
    "    return min(n"
   ]
  },
  {
   "cell_type": "code",
   "execution_count": 33,
   "id": "b64cf8e4-9a23-4599-89e5-e1bb468d15f4",
   "metadata": {},
   "outputs": [
    {
     "name": "stdout",
     "output_type": "stream",
     "text": [
      "5\n"
     ]
    }
   ],
   "source": [
    "li=[1,2,3,5,6,0]\n",
    "max1=float('-inf')\n",
    "max2=float('-inf')\n",
    "for i in li:\n",
    "    if i>max1:\n",
    "        \n",
    "        max2=max1\n",
    "        max1=i\n",
    "    elif max1>i>max2:\n",
    "        max2=max1\n",
    "print(max2)\n"
   ]
  },
  {
   "cell_type": "code",
   "execution_count": 35,
   "id": "4f7a9479-2d11-47da-945e-cbc668366924",
   "metadata": {},
   "outputs": [
    {
     "name": "stdout",
     "output_type": "stream",
     "text": [
      "Original List-[1, 2, 2, 5, 5, 5, 6]\n",
      "List Without Duplicates- [1, 2, 5, 6]\n",
      "Removed items- [2, 5, 5]\n"
     ]
    }
   ],
   "source": [
    "li=[1,2,2,5,5,5,6]\n",
    "removed_item=[]\n",
    "unique_item=[]\n",
    "for i in li:\n",
    "    if i not in unique_item:\n",
    "        unique_item.append(i)\n",
    "    else:\n",
    "        removed_item.append(i)\n",
    "print(f\"Original List-{li}\")\n",
    "print(f\"List Without Duplicates- {unique_item}\")\n",
    "print(f\"Removed items- {removed_item}\")"
   ]
  },
  {
   "cell_type": "code",
   "execution_count": 49,
   "id": "cd02e7fa-2a1c-44b5-9187-bb60e38fa444",
   "metadata": {},
   "outputs": [
    {
     "name": "stdout",
     "output_type": "stream",
     "text": [
      "3\n"
     ]
    }
   ],
   "source": [
    "sen=\"Hello World\"\n",
    "vo=\"aeiouAEIOU\"\n",
    "def num_of_vowel(wordd):\n",
    "    count=0\n",
    "    for i in wordd:\n",
    "        if i in vo:\n",
    "            count=count+1\n",
    "        else:\n",
    "            pass\n",
    "    return count\n",
    "print(num_of_vowel(sen))"
   ]
  },
  {
   "cell_type": "code",
   "execution_count": 52,
   "id": "b3382b9f-a04e-4f0c-843f-dc0e1d95f21e",
   "metadata": {},
   "outputs": [
    {
     "name": "stdout",
     "output_type": "stream",
     "text": [
      "6\n"
     ]
    }
   ],
   "source": [
    "sen=\"My name is Mayank Pathak\"\n",
    "\n",
    "def num_of_words(sent):\n",
    "    count=1\n",
    "    for i in sent:\n",
    "        if i ==\" \":\n",
    "            count=count+1\n",
    "        else:\n",
    "            pass\n",
    "    return count\n",
    "print(num_of_words(sen))\n",
    "        \n"
   ]
  },
  {
   "cell_type": "code",
   "execution_count": null,
   "id": "cff2aad2-fbc4-4d0e-8c68-613193ec8e3f",
   "metadata": {},
   "outputs": [],
   "source": []
  }
 ],
 "metadata": {
  "kernelspec": {
   "display_name": "Python 3 (ipykernel)",
   "language": "python",
   "name": "python3"
  },
  "language_info": {
   "codemirror_mode": {
    "name": "ipython",
    "version": 3
   },
   "file_extension": ".py",
   "mimetype": "text/x-python",
   "name": "python",
   "nbconvert_exporter": "python",
   "pygments_lexer": "ipython3",
   "version": "3.12.8"
  }
 },
 "nbformat": 4,
 "nbformat_minor": 5
}
