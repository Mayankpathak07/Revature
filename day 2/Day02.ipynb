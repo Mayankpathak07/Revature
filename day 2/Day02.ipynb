{
 "cells": [
  {
   "cell_type": "markdown",
   "id": "f56d7afa-5833-4462-9313-44903c4cb28b",
   "metadata": {},
   "source": [
    "#write a program to return the number of occurances of vowel in a sentence\n",
    "# WAP to count the number of words in a sentence"
   ]
  },
  {
   "cell_type": "code",
   "execution_count": 7,
   "id": "6185850f-e7ca-4cf0-8721-e1ac6bceea29",
   "metadata": {},
   "outputs": [
    {
     "name": "stdout",
     "output_type": "stream",
     "text": [
      "3\n"
     ]
    }
   ],
   "source": [
    "sen=\"Hello World\"\n",
    "vo=\"aeiouAEIOU\"\n",
    "def num_of_vowel(wordd):\n",
    "    count=0\n",
    "    for i in wordd:\n",
    "        if i in vo:\n",
    "            count=count+1\n",
    "        else:\n",
    "            pass\n",
    "    return count\n",
    "print(num_of_vowel(sen))"
   ]
  },
  {
   "cell_type": "code",
   "execution_count": null,
   "id": "1ce29825-2626-4451-9c60-b04c3cc5fb99",
   "metadata": {},
   "outputs": [],
   "source": [
    "sen=\"Hello "
   ]
  }
 ],
 "metadata": {
  "kernelspec": {
   "display_name": "Python 3 (ipykernel)",
   "language": "python",
   "name": "python3"
  },
  "language_info": {
   "codemirror_mode": {
    "name": "ipython",
    "version": 3
   },
   "file_extension": ".py",
   "mimetype": "text/x-python",
   "name": "python",
   "nbconvert_exporter": "python",
   "pygments_lexer": "ipython3",
   "version": "3.12.8"
  }
 },
 "nbformat": 4,
 "nbformat_minor": 5
}
